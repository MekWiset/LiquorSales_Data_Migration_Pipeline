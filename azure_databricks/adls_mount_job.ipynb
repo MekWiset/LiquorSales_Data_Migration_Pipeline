{
 "cells": [
  {
   "cell_type": "code",
   "execution_count": null,
   "metadata": {
    "application/vnd.databricks.v1+cell": {
     "cellMetadata": {
      "byteLimit": 2048000,
      "rowLimit": 10000
     },
     "inputWidgets": {},
     "nuid": "8baf33a0-3cea-488d-9339-4e1240ab9d56",
     "showTitle": false,
     "title": ""
    }
   },
   "outputs": [
    {
     "name": "stdout",
     "output_type": "stream",
     "text": [
      "/mnt/liquor-sales-data has been unmounted.\n",
      "Successfully mounted wasbs://liquor-sales-data@liquorsales.blob.core.windows.net to /mnt/liquor-sales-data\n"
     ]
    },
    {
     "data": {
      "text/html": [
       "<style scoped>\n",
       "  .table-result-container {\n",
       "    max-height: 300px;\n",
       "    overflow: auto;\n",
       "  }\n",
       "  table, th, td {\n",
       "    border: 1px solid black;\n",
       "    border-collapse: collapse;\n",
       "  }\n",
       "  th, td {\n",
       "    padding: 5px;\n",
       "  }\n",
       "  th {\n",
       "    text-align: left;\n",
       "  }\n",
       "</style><div class='table-result-container'><table class='table-result'><thead style='background-color: white'><tr><th>path</th><th>name</th><th>size</th><th>modificationTime</th></tr></thead><tbody><tr><td>dbfs:/mnt/liquor-sales-data/raw_data/</td><td>raw_data/</td><td>0</td><td>0</td></tr><tr><td>dbfs:/mnt/liquor-sales-data/transformed_data/</td><td>transformed_data/</td><td>0</td><td>0</td></tr></tbody></table></div>"
      ]
     },
     "metadata": {
      "application/vnd.databricks.v1+output": {
       "addedWidgets": {},
       "aggData": [],
       "aggError": "",
       "aggOverflow": false,
       "aggSchema": [],
       "aggSeriesLimitReached": false,
       "aggType": "",
       "arguments": {},
       "columnCustomDisplayInfos": {},
       "data": [
        [
         "dbfs:/mnt/liquor-sales-data/raw_data/",
         "raw_data/",
         0,
         0
        ],
        [
         "dbfs:/mnt/liquor-sales-data/transformed_data/",
         "transformed_data/",
         0,
         0
        ]
       ],
       "datasetInfos": [],
       "dbfsResultPath": null,
       "isJsonSchema": true,
       "metadata": {},
       "overflow": false,
       "plotOptions": {
        "customPlotOptions": {},
        "displayType": "table",
        "pivotAggregation": null,
        "pivotColumns": null,
        "xColumns": null,
        "yColumns": null
       },
       "removedWidgets": [],
       "schema": [
        {
         "metadata": "{}",
         "name": "path",
         "type": "\"string\""
        },
        {
         "metadata": "{}",
         "name": "name",
         "type": "\"string\""
        },
        {
         "metadata": "{}",
         "name": "size",
         "type": "\"long\""
        },
        {
         "metadata": "{}",
         "name": "modificationTime",
         "type": "\"long\""
        }
       ],
       "type": "table"
      }
     },
     "output_type": "display_data"
    }
   ],
   "source": [
    "import dbutils\n",
    "\n",
    "storage_account_name = \"liquorsales\"\n",
    "container_name = \"liquor-sales-data\"\n",
    "sas_token = \"sv=2022-11-02&ss=bfqt&srt=co&sp=rwdlacupyx&se=2024-07-02T15:51:04Z&st=2024-06-25T07:51:04Z&spr=https&sig=f%2FVZ1ay7YIZTOkZXrn1fn50P6HCeBgm8i8RQ6G%2BUfFg%3D\"\n",
    "\n",
    "source = f\"wasbs://{container_name}@{storage_account_name}.blob.core.windows.net\"\n",
    "mount_point = f\"/mnt/{container_name}\"\n",
    "\n",
    "# Unmount if already mounted\n",
    "try:\n",
    "    if any(mount.mountPoint == mount_point for mount in dbutils.fs.mounts()):\n",
    "        dbutils.fs.unmount(mount_point)\n",
    "except Exception as e:\n",
    "    print(f\"Error unmounting {mount_point}: {e}\")\n",
    "\n",
    "# Mount the storage\n",
    "try:\n",
    "    dbutils.fs.mount(\n",
    "        source=source,\n",
    "        mount_point=mount_point,\n",
    "        extra_configs={\n",
    "            f\"fs.azure.sas.{container_name}.{storage_account_name}.blob.core.windows.net\": sas_token\n",
    "        }\n",
    "    )\n",
    "    print(f\"Successfully mounted {source} to {mount_point}\")\n",
    "except Exception as e:\n",
    "    print(f\"Error mounting {source} to {mount_point}: {e}\")\n",
    "    # If mounting fails, exit the script to avoid further errors\n",
    "    raise e\n",
    "\n",
    "# List the files in the mount point to verify\n",
    "try:\n",
    "    display(dbutils.fs.ls(mount_point))\n",
    "except Exception as e:\n",
    "    print(f\"Error listing contents of {mount_point}: {e}\")\n"
   ]
  }
 ],
 "metadata": {
  "application/vnd.databricks.v1+notebook": {
   "dashboards": [],
   "environmentMetadata": null,
   "language": "python",
   "notebookMetadata": {
    "pythonIndentUnit": 4
   },
   "notebookName": "adls_mount_job",
   "widgets": {}
  },
  "language_info": {
   "name": "python"
  }
 },
 "nbformat": 4,
 "nbformat_minor": 0
}
