{
 "cells": [
  {
   "cell_type": "code",
   "execution_count": null,
   "metadata": {
    "application/vnd.databricks.v1+cell": {
     "cellMetadata": {
      "byteLimit": 2048000,
      "rowLimit": 10000
     },
     "inputWidgets": {},
     "nuid": "ad4d8448-f7ed-44cf-b931-6a25f467d3bd",
     "showTitle": false,
     "title": ""
    }
   },
   "outputs": [],
   "source": [
    "# Import Packages\n",
    "\n",
    "from pyspark.sql import SparkSession\n",
    "from pyspark.sql.functions import add_months\n",
    "from pyspark.sql.types import StructType, StructField, StringType, IntegerType, DoubleType, DateType\n",
    "\n",
    "spark = SparkSession.builder.appName('Invoice').master('local[*]').getOrCreate()"
   ]
  },
  {
   "cell_type": "code",
   "execution_count": null,
   "metadata": {
    "application/vnd.databricks.v1+cell": {
     "cellMetadata": {
      "byteLimit": 2048000,
      "rowLimit": 10000
     },
     "inputWidgets": {},
     "nuid": "23bf2927-7406-4e51-ad0f-af897cee355e",
     "showTitle": false,
     "title": ""
    }
   },
   "outputs": [
    {
     "name": "stdout",
     "output_type": "stream",
     "text": [
      "+-------------------+------------+----------------+-----------+-------------+--------------+----------+------------+---------+------------------+----------+\n",
      "|Invoice_Item Number|Store Number|Address Sequence|Item Number|Vendor Number|Price Sequence|Items Sold|Sale Dollars|Sale Baht|Volume Sold Liters|      Date|\n",
      "+-------------------+------------+----------------+-----------+-------------+--------------+----------+------------+---------+------------------+----------+\n",
      "|       S10731600154|    STO_2633|               1|  ITM_87938|      VEN_434|             6|        48|       480.0|  17280.0|              48.0|2013-02-21|\n",
      "|       S10484600004|    STO_2512|               1| ITM_903202|      VEN_259|             1|        36|       286.2|  10303.2|              27.0|2013-02-07|\n",
      "|       S10907100019|    STO_4095|               1|  ITM_68038|      VEN_260|            18|         1|       43.07|  1550.52|               2.4|2013-03-05|\n",
      "|       S10976000109|    STO_4829|               1|  ITM_69947|      VEN_260|             7|        48|     1090.56| 39260.16|              48.0|2013-03-07|\n",
      "|       S11127600036|    STO_2178|               1|  ITM_75210|      VEN_322|             3|        18|       270.0|   9720.0|              13.5|2013-03-18|\n",
      "|       S10883200163|    STO_2633|               1|  ITM_89578|       VEN_55|             4|        48|      505.44| 18195.84|              48.0|2013-03-04|\n",
      "|       S08589700151|    STO_2633|               1|  ITM_86250|      VEN_434|             1|        84|      278.04| 10009.44|              84.0|2012-10-25|\n",
      "|       S07368100089|    STO_2544|               1|  ITM_86884|       VEN_85|             4|        36|      505.44| 18195.84|              27.0|2012-10-12|\n",
      "|       S08155100048|    STO_3456|               1|  ITM_88294|      VEN_410|             2|         2|        25.5|    918.0|               0.4|2012-10-08|\n",
      "|       S08570200042|    STO_4344|               1|  ITM_89193|      VEN_395|             8|         2|        8.98|   323.28|               0.4|2012-10-25|\n",
      "|       S10064600007|    STO_3385|               1|  ITM_89887|      VEN_421|             1|        84|       835.8|  30088.8|              84.0|2013-01-16|\n",
      "|       S10237500004|    STO_5230|               1| ITM_903454|      VEN_420|             8|        36|      931.68| 33540.48|              27.0|2013-01-24|\n",
      "|       S09246600033|    STO_3929|               1|  ITM_88291|      VEN_410|             1|         1|       30.45|   1096.2|               0.3|2012-12-04|\n",
      "|       S09541500025|    STO_4167|               1| ITM_903454|      VEN_420|             8|        36|      931.68| 33540.48|              27.0|2012-12-18|\n",
      "|       S12797500017|    STO_4806|               1|  ITM_34001|      VEN_370|             1|         4|       47.52|  1710.72|               2.4|2013-06-13|\n",
      "|       S12777100027|    STO_2130|               1|  ITM_34006|      VEN_370|            14|       156|     3508.44|126303.84|             156.0|2013-06-13|\n",
      "|       S12627300015|    STO_4134|               1|  ITM_34425|       VEN_35|             5|         2|       14.58|   524.88|               0.4|2013-06-05|\n",
      "|       S13056700027|    STO_3814|               1|  ITM_36304|      VEN_434|             4|        54|       577.8|  20800.8|              94.5|2013-06-27|\n",
      "|       S13025800041|    STO_3928|               1|  ITM_43333|      VEN_260|             6|         7|        21.0|    756.0|               1.4|2013-06-26|\n",
      "|       S13044900055|    STO_2599|               1|  ITM_43337|      VEN_260|            12|        72|     1916.64| 68999.04|             126.0|2013-06-27|\n",
      "+-------------------+------------+----------------+-----------+-------------+--------------+----------+------------+---------+------------------+----------+\n",
      "only showing top 20 rows\n",
      "\n"
     ]
    }
   ],
   "source": [
    "# Import data from 'liquor-sales-data/raw_data/' in ADLS\n",
    "\n",
    "file_path = \"/mnt/liquor-sales-data/raw_data/invoice.csv\"\n",
    "\n",
    "schema = StructType([\n",
    "    StructField(\"Invoice_Item Number\", StringType(), True),\n",
    "    StructField(\"Store Number\", StringType(), True),\n",
    "    StructField(\"Address Sequence\", IntegerType(), True),\n",
    "    StructField(\"Item Number\", StringType(), True),\n",
    "    StructField(\"Vendor Number\", StringType(), True),\n",
    "    StructField(\"Price Sequence\", IntegerType(), True),\n",
    "    StructField(\"Items Sold\", IntegerType(), True),\n",
    "    StructField(\"Sale Dollars\", DoubleType(), True),\n",
    "    StructField(\"Sale Baht\", DoubleType(), True),\n",
    "    StructField(\"Volume Sold Liters\", DoubleType(), True),\n",
    "    StructField(\"Date\", DateType(), True)\n",
    "])\n",
    "df_invoice = spark.read.load(file_path, format='csv', header=True, schema=schema)\n"
   ]
  },
  {
   "cell_type": "code",
   "execution_count": null,
   "metadata": {
    "application/vnd.databricks.v1+cell": {
     "cellMetadata": {
      "byteLimit": 2048000,
      "rowLimit": 10000
     },
     "inputWidgets": {},
     "nuid": "a48eeb56-c993-44e6-8230-473a4d42cec7",
     "showTitle": false,
     "title": ""
    }
   },
   "outputs": [
    {
     "name": "stdout",
     "output_type": "stream",
     "text": [
      "root\n",
      " |-- Invoice_Item Number: string (nullable = true)\n",
      " |-- Store Number: string (nullable = true)\n",
      " |-- Address Sequence: integer (nullable = true)\n",
      " |-- Item Number: string (nullable = true)\n",
      " |-- Vendor Number: string (nullable = true)\n",
      " |-- Price Sequence: integer (nullable = true)\n",
      " |-- Items Sold: integer (nullable = true)\n",
      " |-- Sale Dollars: double (nullable = true)\n",
      " |-- Sale Baht: double (nullable = true)\n",
      " |-- Volume Sold Liters: double (nullable = true)\n",
      " |-- Date: date (nullable = true)\n",
      "\n"
     ]
    }
   ],
   "source": [
    "# Transform\n",
    "\n",
    "# Subtract year column by 543\n",
    "df_invoice = df_invoice.withColumn('Date', add_months(df_invoice['Date'], -543 * 12))\n",
    "\n",
    "df_invoice.printSchema()\n"
   ]
  },
  {
   "cell_type": "code",
   "execution_count": null,
   "metadata": {
    "application/vnd.databricks.v1+cell": {
     "cellMetadata": {
      "byteLimit": 2048000,
      "rowLimit": 10000
     },
     "inputWidgets": {},
     "nuid": "f32d57fa-d521-4068-a075-e84a13698c6b",
     "showTitle": false,
     "title": ""
    }
   },
   "outputs": [],
   "source": [
    "# Export to 'liquor-sales-data/transformed_data/' in ADLS\n",
    "\n",
    "output_path = \"/mnt/liquor-sales-data/transformed_data/invoice/\"\n",
    "\n",
    "df_invoice.write.parquet(output_path, mode='overwrite')"
   ]
  }
 ],
 "metadata": {
  "application/vnd.databricks.v1+notebook": {
   "dashboards": [],
   "environmentMetadata": null,
   "language": "python",
   "notebookMetadata": {
    "pythonIndentUnit": 4
   },
   "notebookName": "invoice_job",
   "widgets": {}
  },
  "language_info": {
   "name": "python"
  }
 },
 "nbformat": 4,
 "nbformat_minor": 0
}
