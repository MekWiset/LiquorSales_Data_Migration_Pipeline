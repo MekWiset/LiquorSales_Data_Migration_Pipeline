{
 "cells": [
  {
   "cell_type": "code",
   "execution_count": null,
   "metadata": {
    "application/vnd.databricks.v1+cell": {
     "cellMetadata": {
      "byteLimit": 2048000,
      "rowLimit": 10000
     },
     "inputWidgets": {},
     "nuid": "ad4d8448-f7ed-44cf-b931-6a25f467d3bd",
     "showTitle": false,
     "title": ""
    }
   },
   "outputs": [],
   "source": [
    "# Import Packages\n",
    "\n",
    "from pyspark.sql import SparkSession\n",
    "from pyspark.sql.functions import add_months\n",
    "from pyspark.sql.types import StructType, StructField, StringType, IntegerType, DoubleType, DateType, BooleanType\n",
    "\n",
    "spark = SparkSession.builder.appName('Store Address History').master('local[*]').getOrCreate()"
   ]
  },
  {
   "cell_type": "code",
   "execution_count": null,
   "metadata": {
    "application/vnd.databricks.v1+cell": {
     "cellMetadata": {
      "byteLimit": 2048000,
      "rowLimit": 10000
     },
     "inputWidgets": {},
     "nuid": "23bf2927-7406-4e51-ad0f-af897cee355e",
     "showTitle": false,
     "title": ""
    }
   },
   "outputs": [
    {
     "name": "stdout",
     "output_type": "stream",
     "text": [
      "+------------+--------------------+-------------+--------+-------------+---------+----------+----------+----------+----------+----------------+\n",
      "|Store Number|             Address|         City|Zip Code|County Number| Latitude| Longitude| From Date|   To Date|Is Current|Address Sequence|\n",
      "+------------+--------------------+-------------+--------+-------------+---------+----------+----------+----------+----------+----------------+\n",
      "|    STO_2106|        2217 COLLEGE|  CEDAR FALLS|   50613|        CNT_7|42.517182|-92.455796|2012-01-05|2020-09-24|      true|               1|\n",
      "|    STO_2113|         1119 MARKET|       GOWRIE|   50543|       CNT_94| 42.28057|-94.289457|2012-01-04|2020-02-03|      true|               1|\n",
      "|    STO_2130|        617 SYCAMORE|     WATERLOO|   50703|        CNT_7|42.497854|-92.335358|2012-01-05|2020-09-24|      true|               1|\n",
      "|    STO_2152|       202 4TH NORTH|     ROCKWELL|   50469|       CNT_17|42.986351|-93.188172|2012-01-09|2016-02-25|      true|               1|\n",
      "|    STO_2161|      FIRST AND MAIN|FORT ATKINSON|   52144|       CNT_96|     NULL|      NULL|2012-01-09|2012-07-09|      true|               1|\n",
      "|    STO_2178|  618 ROSSVILLE ROAD|       WAUKON|   52172|        CNT_3|43.262114|-91.473634|2012-01-09|2020-09-25|      true|               1|\n",
      "|    STO_2190|     1460 2ND AVENUE|   DES MOINES|   50314|       CNT_77| 41.60566|-93.619787|2012-01-03|2020-09-30|      true|               1|\n",
      "|    STO_2191|           1013 MAIN|       KEOKUK|   52632|       CNT_56|40.400038|-91.387797|2012-01-03|2020-09-30|      true|               1|\n",
      "|    STO_2200|       619 EAST MAIN|     SAC CITY|   50583|       CNT_81|42.421341|-94.974011|2012-01-04|2020-09-28|      true|               1|\n",
      "|    STO_2205| 900 EAST WASHINGTON|     CLARINDA|   51632|       CNT_73|40.739231|-95.027238|2012-01-03|2015-12-28|      true|               1|\n",
      "|    STO_2228|            53 GREEN|    WINTERSET|   50273|       CNT_61|41.336405|-94.013374|2012-01-09|2020-09-25|      true|               1|\n",
      "|    STO_2233|2508 ENTERPRISE A...|  SPIRIT LAKE|   51360|       CNT_30|43.416433|-95.126786|2012-01-03|2020-09-30|      true|               1|\n",
      "|    STO_2238|3200 ADVENTURELAN...|      ALTOONA|   50009|       CNT_77|41.658513| -93.49924|2012-01-03|2019-04-25|     false|               1|\n",
      "|    STO_2238|305 34TH AVENUE N...|      ALTOONA|   50009|       CNT_77|     NULL|      NULL|2019-05-09|2020-09-17|      true|               2|\n",
      "|    STO_2248|3500 INGERSOLL AV...|   DES MOINES|   50312|       CNT_77|41.586319|-93.664182|2012-01-09|2020-09-24|      true|               1|\n",
      "|    STO_2260|    509 FIRST AVENUE|        PERRY|   50220|       CNT_25|41.832248|-94.106557|2012-01-09|2012-01-16|      true|               1|\n",
      "|    STO_2285|     401 EAST MARKET|    IOWA CITY|   52240|       CNT_52|41.663541|-91.529854|2012-01-09|2020-09-30|      true|               1|\n",
      "|    STO_2290|215 WEST MILWAUKE...|   STORM LAKE|   50588|       CNT_11|42.647492|-95.202405|2012-01-04|2016-10-04|      true|               1|\n",
      "|    STO_2327|            801 HULL|      CORNING|   50841|        CNT_2|40.990378|-94.743692|2012-01-03|2018-11-16|      true|               1|\n",
      "|    STO_2353|708 2ND AVENUE SO...|       CRESCO|   52136|       CNT_45|43.371131|-92.106529|2012-01-09|2016-02-23|      true|               1|\n",
      "+------------+--------------------+-------------+--------+-------------+---------+----------+----------+----------+----------+----------------+\n",
      "only showing top 20 rows\n",
      "\n",
      "root\n",
      " |-- Store Number: string (nullable = true)\n",
      " |-- Address: string (nullable = true)\n",
      " |-- City: string (nullable = true)\n",
      " |-- Zip Code: integer (nullable = true)\n",
      " |-- County Number: string (nullable = true)\n",
      " |-- Latitude: double (nullable = true)\n",
      " |-- Longitude: double (nullable = true)\n",
      " |-- From Date: date (nullable = true)\n",
      " |-- To Date: date (nullable = true)\n",
      " |-- Is Current: boolean (nullable = true)\n",
      " |-- Address Sequence: integer (nullable = true)\n",
      "\n"
     ]
    }
   ],
   "source": [
    "# Import data from 'liquor-sales-data/raw_data/' in ADLS\n",
    "\n",
    "file_path = \"/mnt/liquor-sales-data/raw_data/store_address_history.csv\"\n",
    "\n",
    "schema = StructType([\n",
    "    StructField(\"Store Number\", StringType(), True),\n",
    "    StructField(\"Address\", StringType(), True),\n",
    "    StructField(\"City\", StringType(), True),\n",
    "    StructField(\"Zip Code\", IntegerType(), True),\n",
    "    StructField(\"County Number\", StringType(), True),\n",
    "    StructField(\"Latitude\", DoubleType(), True),\n",
    "    StructField(\"Longitude\", DoubleType(), True),\n",
    "    StructField(\"From Date\", DateType(), True),\n",
    "    StructField(\"To Date\", DateType(), True),\n",
    "    StructField(\"Is Current\", BooleanType(), False),\n",
    "    StructField(\"Address Sequence\", IntegerType(), False)\n",
    "])\n",
    "df_address_history = spark.read.load(file_path, format='csv', header=True, schema=schema)\n",
    "\n",
    "# +------------+--------------------+-------------+--------+-------------+---------+----------+----------+----------+----------+----------------+\n",
    "# |Store Number|             Address|         City|Zip Code|County Number| Latitude| Longitude| From Date|   To Date|Is Current|Address Sequence|\n",
    "# +------------+--------------------+-------------+--------+-------------+---------+----------+----------+----------+----------+----------------+\n",
    "# |    STO_2106|        2217 COLLEGE|  CEDAR FALLS|   50613|        CNT_7|42.517182|-92.455796|2012-01-05|2020-09-24|      true|               1|\n",
    "# |    STO_2113|         1119 MARKET|       GOWRIE|   50543|       CNT_94| 42.28057|-94.289457|2012-01-04|2020-02-03|      true|               1|\n",
    "# |    STO_2130|        617 SYCAMORE|     WATERLOO|   50703|        CNT_7|42.497854|-92.335358|2012-01-05|2020-09-24|      true|               1|\n",
    "# |    STO_2152|       202 4TH NORTH|     ROCKWELL|   50469|       CNT_17|42.986351|-93.188172|2012-01-09|2016-02-25|      true|               1|\n",
    "# |    STO_2161|      FIRST AND MAIN|FORT ATKINSON|   52144|       CNT_96|     NULL|      NULL|2012-01-09|2012-07-09|      true|               1|\n",
    "# |    STO_2178|  618 ROSSVILLE ROAD|       WAUKON|   52172|        CNT_3|43.262114|-91.473634|2012-01-09|2020-09-25|      true|               1|\n",
    "# |    STO_2190|     1460 2ND AVENUE|   DES MOINES|   50314|       CNT_77| 41.60566|-93.619787|2012-01-03|2020-09-30|      true|               1|\n",
    "# |    STO_2191|           1013 MAIN|       KEOKUK|   52632|       CNT_56|40.400038|-91.387797|2012-01-03|2020-09-30|      true|               1|\n",
    "# |    STO_2200|       619 EAST MAIN|     SAC CITY|   50583|       CNT_81|42.421341|-94.974011|2012-01-04|2020-09-28|      true|               1|\n",
    "# |    STO_2205| 900 EAST WASHINGTON|     CLARINDA|   51632|       CNT_73|40.739231|-95.027238|2012-01-03|2015-12-28|      true|               1|\n",
    "# |    STO_2228|            53 GREEN|    WINTERSET|   50273|       CNT_61|41.336405|-94.013374|2012-01-09|2020-09-25|      true|               1|\n",
    "# |    STO_2233|2508 ENTERPRISE A...|  SPIRIT LAKE|   51360|       CNT_30|43.416433|-95.126786|2012-01-03|2020-09-30|      true|               1|\n",
    "# |    STO_2238|3200 ADVENTURELAN...|      ALTOONA|   50009|       CNT_77|41.658513| -93.49924|2012-01-03|2019-04-25|     false|               1|\n",
    "# |    STO_2238|305 34TH AVENUE N...|      ALTOONA|   50009|       CNT_77|     NULL|      NULL|2019-05-09|2020-09-17|      true|               2|\n",
    "# |    STO_2248|3500 INGERSOLL AV...|   DES MOINES|   50312|       CNT_77|41.586319|-93.664182|2012-01-09|2020-09-24|      true|               1|\n",
    "# |    STO_2260|    509 FIRST AVENUE|        PERRY|   50220|       CNT_25|41.832248|-94.106557|2012-01-09|2012-01-16|      true|               1|\n",
    "# |    STO_2285|     401 EAST MARKET|    IOWA CITY|   52240|       CNT_52|41.663541|-91.529854|2012-01-09|2020-09-30|      true|               1|\n",
    "# |    STO_2290|215 WEST MILWAUKE...|   STORM LAKE|   50588|       CNT_11|42.647492|-95.202405|2012-01-04|2016-10-04|      true|               1|"
   ]
  },
  {
   "cell_type": "code",
   "execution_count": null,
   "metadata": {
    "application/vnd.databricks.v1+cell": {
     "cellMetadata": {
      "byteLimit": 2048000,
      "rowLimit": 10000
     },
     "inputWidgets": {},
     "nuid": "a48eeb56-c993-44e6-8230-473a4d42cec7",
     "showTitle": false,
     "title": ""
    }
   },
   "outputs": [
    {
     "name": "stdout",
     "output_type": "stream",
     "text": [
      "root\n",
      " |-- Store Number: string (nullable = true)\n",
      " |-- Address: string (nullable = true)\n",
      " |-- City: string (nullable = true)\n",
      " |-- Zip Code: integer (nullable = true)\n",
      " |-- County Number: string (nullable = true)\n",
      " |-- Latitude: double (nullable = true)\n",
      " |-- Longitude: double (nullable = true)\n",
      " |-- From Date: date (nullable = true)\n",
      " |-- To Date: date (nullable = true)\n",
      " |-- Is Current: string (nullable = true)\n",
      " |-- Address Sequence: integer (nullable = true)\n",
      "\n"
     ]
    }
   ],
   "source": [
    "# Transform\n",
    "\n",
    "# Subtract year column by 543\n",
    "df_address_history = df_address_history.withColumn('From Date', add_months(df_address_history['From Date'], -543 * 12))\n",
    "df_address_history = df_address_history.withColumn('To Date', add_months(df_address_history['To Date'], -543 * 12))\n",
    "\n",
    "# Convert 'Is Current' column to string\n",
    "df_address_history = df_address_history.withColumn('Is Current', df_address_history['Is Current'].cast('string'))\n"
   ]
  },
  {
   "cell_type": "code",
   "execution_count": null,
   "metadata": {
    "application/vnd.databricks.v1+cell": {
     "cellMetadata": {
      "byteLimit": 2048000,
      "rowLimit": 10000
     },
     "inputWidgets": {},
     "nuid": "f32d57fa-d521-4068-a075-e84a13698c6b",
     "showTitle": false,
     "title": ""
    }
   },
   "outputs": [],
   "source": [
    "# Export to 'liquor-sales-data/transformed_data/' in ADLS\n",
    "\n",
    "output_path = \"/mnt/liquor-sales-data/transformed_data/store_address_history/\"\n",
    "\n",
    "df_address_history.write.parquet(output_path, mode='overwrite')"
   ]
  }
 ],
 "metadata": {
  "application/vnd.databricks.v1+notebook": {
   "dashboards": [],
   "environmentMetadata": null,
   "language": "python",
   "notebookMetadata": {
    "pythonIndentUnit": 4
   },
   "notebookName": "store_address_history_job",
   "widgets": {}
  },
  "language_info": {
   "name": "python"
  }
 },
 "nbformat": 4,
 "nbformat_minor": 0
}
