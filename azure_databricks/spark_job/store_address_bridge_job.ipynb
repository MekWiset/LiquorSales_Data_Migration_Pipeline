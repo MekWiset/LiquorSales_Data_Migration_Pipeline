{
 "cells": [
  {
   "cell_type": "code",
   "execution_count": null,
   "metadata": {
    "application/vnd.databricks.v1+cell": {
     "cellMetadata": {
      "byteLimit": 2048000,
      "rowLimit": 10000
     },
     "inputWidgets": {},
     "nuid": "ad4d8448-f7ed-44cf-b931-6a25f467d3bd",
     "showTitle": false,
     "title": ""
    }
   },
   "outputs": [],
   "source": [
    "# Import Packages\n",
    "\n",
    "from pyspark.sql import SparkSession\n",
    "from pyspark.sql.types import StructType, StructField, StringType\n",
    "\n",
    "spark = SparkSession.builder.appName('Store Address Bridge').master('local[*]').getOrCreate()\n"
   ]
  },
  {
   "cell_type": "code",
   "execution_count": null,
   "metadata": {
    "application/vnd.databricks.v1+cell": {
     "cellMetadata": {
      "byteLimit": 2048000,
      "rowLimit": 10000
     },
     "inputWidgets": {},
     "nuid": "23bf2927-7406-4e51-ad0f-af897cee355e",
     "showTitle": false,
     "title": ""
    }
   },
   "outputs": [
    {
     "name": "stdout",
     "output_type": "stream",
     "text": [
      "+---------------------+--------------------+\n",
      "|Original Store Number|Current Store Number|\n",
      "+---------------------+--------------------+\n",
      "|                 5437|                3495|\n",
      "|                 5676|                3778|\n",
      "|                 5313|                3785|\n",
      "|                 5466|                3785|\n",
      "|                 5493|                3816|\n",
      "|                 5324|                3950|\n",
      "|                 5882|                3950|\n",
      "|                 5337|                4016|\n",
      "|                 5271|                4090|\n",
      "|                 4683|                4550|\n",
      "|                 6040|                4557|\n",
      "|                 5293|                4576|\n",
      "|                 4939|                4614|\n",
      "|                 3480|                4616|\n",
      "|                 4314|                4620|\n",
      "|                 4329|                4666|\n",
      "|                 2132|                4681|\n",
      "|                 5737|                4690|\n",
      "|                 4579|                4813|\n",
      "|                 5413|                4820|\n",
      "+---------------------+--------------------+\n",
      "only showing top 20 rows\n",
      "\n"
     ]
    }
   ],
   "source": [
    "# Import data from 'liquor-sales-data/raw_data/' in ADLS\n",
    "\n",
    "file_path = \"/mnt/liquor-sales-data/raw_data/store_address_bridge.csv\"\n",
    "\n",
    "schema = StructType([\n",
    "    StructField(\"Original Address\", StringType(), True),\n",
    "    StructField(\"Current Address\", StringType(), True)\n",
    "])\n",
    "df_address_bridge = spark.read.load(file_path, format='csv', header=True, schema=schema)\n",
    "\n",
    "df_address_bridge.show()\n",
    "\n"
   ]
  },
  {
   "cell_type": "code",
   "execution_count": null,
   "metadata": {
    "application/vnd.databricks.v1+cell": {
     "cellMetadata": {
      "byteLimit": 2048000,
      "rowLimit": 10000
     },
     "inputWidgets": {},
     "nuid": "a48eeb56-c993-44e6-8230-473a4d42cec7",
     "showTitle": false,
     "title": ""
    }
   },
   "outputs": [],
   "source": [
    "# Transform\n"
   ]
  },
  {
   "cell_type": "code",
   "execution_count": null,
   "metadata": {
    "application/vnd.databricks.v1+cell": {
     "cellMetadata": {
      "byteLimit": 2048000,
      "rowLimit": 10000
     },
     "inputWidgets": {},
     "nuid": "f32d57fa-d521-4068-a075-e84a13698c6b",
     "showTitle": false,
     "title": ""
    }
   },
   "outputs": [],
   "source": [
    "# Export to 'liquor-sales-data/transformed_data/' in ADLS\n",
    "\n",
    "output_path = \"/mnt/liquor-sales-data/transformed_data/store_address_bridge/\"\n",
    "\n",
    "df_address_bridge.write.parquet(output_path, mode='overwrite')"
   ]
  }
 ],
 "metadata": {
  "application/vnd.databricks.v1+notebook": {
   "dashboards": [],
   "environmentMetadata": null,
   "language": "python",
   "notebookMetadata": {
    "pythonIndentUnit": 4
   },
   "notebookName": "store_address_bridge_job",
   "widgets": {}
  },
  "language_info": {
   "name": "python"
  }
 },
 "nbformat": 4,
 "nbformat_minor": 0
}
