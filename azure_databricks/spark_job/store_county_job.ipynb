{
 "cells": [
  {
   "cell_type": "code",
   "execution_count": null,
   "metadata": {
    "application/vnd.databricks.v1+cell": {
     "cellMetadata": {
      "byteLimit": 2048000,
      "rowLimit": 10000
     },
     "inputWidgets": {},
     "nuid": "ad4d8448-f7ed-44cf-b931-6a25f467d3bd",
     "showTitle": false,
     "title": ""
    }
   },
   "outputs": [],
   "source": [
    "# Import Packages\n",
    "\n",
    "from pyspark.sql import SparkSession\n",
    "from pyspark.sql.types import StructType, StructField, StringType\n",
    "\n",
    "spark = SparkSession.builder.appName('Store County').master('local[*]').getOrCreate()\n"
   ]
  },
  {
   "cell_type": "code",
   "execution_count": null,
   "metadata": {
    "application/vnd.databricks.v1+cell": {
     "cellMetadata": {
      "byteLimit": 2048000,
      "rowLimit": 10000
     },
     "inputWidgets": {},
     "nuid": "23bf2927-7406-4e51-ad0f-af897cee355e",
     "showTitle": false,
     "title": ""
    }
   },
   "outputs": [
    {
     "name": "stdout",
     "output_type": "stream",
     "text": [
      "+-------------+-----------+\n",
      "|County Number|County Name|\n",
      "+-------------+-----------+\n",
      "|        CNT_1|      ADAIR|\n",
      "|        CNT_2|      ADAMS|\n",
      "|        CNT_3|  ALLAMAKEE|\n",
      "|        CNT_4|  APPANOOSE|\n",
      "|        CNT_5|    AUDUBON|\n",
      "|        CNT_6|     BENTON|\n",
      "|        CNT_7| BLACK HAWK|\n",
      "|        CNT_8|      BOONE|\n",
      "|        CNT_9|     BREMER|\n",
      "|       CNT_10|   BUCHANAN|\n",
      "|       CNT_11|BUENA VISTA|\n",
      "|       CNT_12|     BUTLER|\n",
      "|       CNT_13|    CALHOUN|\n",
      "|       CNT_14|    CARROLL|\n",
      "|       CNT_15|       CASS|\n",
      "|       CNT_16|      CEDAR|\n",
      "|       CNT_17|CERRO GORDO|\n",
      "|       CNT_18|   CHEROKEE|\n",
      "|       CNT_19|  CHICKASAW|\n",
      "|       CNT_20|     CLARKE|\n",
      "+-------------+-----------+\n",
      "only showing top 20 rows\n",
      "\n"
     ]
    }
   ],
   "source": [
    "# Import data from 'liquor-sales-data/raw_data/' in ADLS\n",
    "\n",
    "file_path = \"/mnt/liquor-sales-data/raw_data/store_county.csv\"\n",
    "\n",
    "schema = StructType([\n",
    "    StructField(\"County Number\", StringType(), True),\n",
    "    StructField(\"County Name\", StringType(), True)\n",
    "])\n",
    "df_county = spark.read.load(file_path, format='csv', header=True, schema=schema)\n",
    "\n",
    "df_county.show()\n"
   ]
  },
  {
   "cell_type": "code",
   "execution_count": null,
   "metadata": {
    "application/vnd.databricks.v1+cell": {
     "cellMetadata": {
      "byteLimit": 2048000,
      "rowLimit": 10000
     },
     "inputWidgets": {},
     "nuid": "a48eeb56-c993-44e6-8230-473a4d42cec7",
     "showTitle": false,
     "title": ""
    }
   },
   "outputs": [],
   "source": [
    "# Transform\n"
   ]
  },
  {
   "cell_type": "code",
   "execution_count": null,
   "metadata": {
    "application/vnd.databricks.v1+cell": {
     "cellMetadata": {
      "byteLimit": 2048000,
      "rowLimit": 10000
     },
     "inputWidgets": {},
     "nuid": "f32d57fa-d521-4068-a075-e84a13698c6b",
     "showTitle": false,
     "title": ""
    }
   },
   "outputs": [],
   "source": [
    "# Export to 'liquor-sales-data/transformed_data/' in ADLS\n",
    "\n",
    "output_path = \"/mnt/liquor-sales-data/transformed_data/store_county/\"\n",
    "\n",
    "df_county.write.parquet(output_path, mode='overwrite')"
   ]
  }
 ],
 "metadata": {
  "application/vnd.databricks.v1+notebook": {
   "dashboards": [],
   "environmentMetadata": null,
   "language": "python",
   "notebookMetadata": {
    "pythonIndentUnit": 4
   },
   "notebookName": "store_county_job",
   "widgets": {}
  },
  "language_info": {
   "name": "python"
  }
 },
 "nbformat": 4,
 "nbformat_minor": 0
}
