{
 "cells": [
  {
   "cell_type": "code",
   "execution_count": null,
   "metadata": {
    "application/vnd.databricks.v1+cell": {
     "cellMetadata": {
      "byteLimit": 2048000,
      "rowLimit": 10000
     },
     "inputWidgets": {},
     "nuid": "ad4d8448-f7ed-44cf-b931-6a25f467d3bd",
     "showTitle": false,
     "title": ""
    }
   },
   "outputs": [],
   "source": [
    "# Import Packages\n",
    "\n",
    "from pyspark.sql import SparkSession\n",
    "from pyspark.sql.functions import round\n",
    "from pyspark.sql.types import StructType, StructField, StringType, IntegerType, DoubleType\n",
    "\n",
    "spark = SparkSession.builder.appName('Item').master('local[*]').getOrCreate()\n"
   ]
  },
  {
   "cell_type": "code",
   "execution_count": null,
   "metadata": {
    "application/vnd.databricks.v1+cell": {
     "cellMetadata": {
      "byteLimit": 2048000,
      "rowLimit": 10000
     },
     "inputWidgets": {},
     "nuid": "23bf2927-7406-4e51-ad0f-af897cee355e",
     "showTitle": false,
     "title": ""
    }
   },
   "outputs": [
    {
     "name": "stdout",
     "output_type": "stream",
     "text": [
      "+-----------+--------------------+---------------+-------------+----+----------------+-----------------+-------------------+\n",
      "|Item Number|    Item Description|Category Number|Vendor Number|Pack|Bottle Volume ml|State Bottle cost|State Bottle Retail|\n",
      "+-----------+--------------------+---------------+-------------+----+----------------+-----------------+-------------------+\n",
      "| ITM_904919|          Cachaca 21|         CAT_68|      VEN_391|   1|            1000|              7.5|              11.25|\n",
      "| ITM_987159|Sooh Millet Armag...|         CAT_48|      VEN_283|   1|             750|             20.0|               30.0|\n",
      "| ITM_994875|Sooh Morin Calvad...|         CAT_48|      VEN_283|   1|             750|             20.0|               30.0|\n",
      "| ITM_904677|Hirsch Straight B...|         CAT_89|      VEN_391|   1|             750|             22.0|               33.0|\n",
      "| ITM_987162|Charles Baur Fine...|         CAT_48|      VEN_283|   1|             750|             22.0|               33.0|\n",
      "| ITM_904074|      Licor De Nance|         CAT_68|      VEN_391|   1|             750|             24.0|               36.0|\n",
      "| ITM_901111|     Latte Machiatto|         CAT_68|      VEN_885|   1|            1750|             28.0|               42.0|\n",
      "| ITM_987160|Sooh Millet Armag...|         CAT_48|      VEN_283|   1|             750|             28.0|               42.0|\n",
      "| ITM_100997|Bird Dog Flavored...|         CAT_92|      VEN_492|   1|              50|             30.0|               45.0|\n",
      "|  ITM_26777|Blue Ox American ...|         CAT_23|      VEN_626|   1|              50|             30.0|               45.0|\n",
      "|  ITM_26777|Blue Ox American ...|         CAT_23|      VEN_229|   1|              50|             30.0|               45.0|\n",
      "|  ITM_29420|    Blue Ox Gin Mini|         CAT_11|      VEN_626|   1|              50|             30.0|               45.0|\n",
      "|  ITM_29420|    Blue Ox Gin Mini|         CAT_11|      VEN_229|   1|              50|             30.0|               45.0|\n",
      "|  ITM_36552|Dehner Distillery...|         CAT_17|      VEN_229|   1|            3000|             30.0|               45.0|\n",
      "|  ITM_36872|  Blue Ox Vodka Mini|         CAT_17|      VEN_626|   1|              50|             30.0|               45.0|\n",
      "|  ITM_36872|  Blue Ox Vodka Mini|         CAT_17|      VEN_229|   1|              50|             30.0|               45.0|\n",
      "|  ITM_37103|       Okoboji Vodka|         CAT_17|      VEN_566|   1|              50|             30.0|               45.0|\n",
      "|  ITM_64858|Fireball Cinnamon...|        CAT_100|      VEN_421|   1|              50|             30.0|               45.0|\n",
      "|  ITM_72502|Blue Ox Silver Ru...|        CAT_103|      VEN_229|   1|              50|             30.0|               45.0|\n",
      "|  ITM_72502|Blue Ox Silver Ru...|        CAT_103|      VEN_626|   1|              50|             30.0|               45.0|\n",
      "+-----------+--------------------+---------------+-------------+----+----------------+-----------------+-------------------+\n",
      "only showing top 20 rows\n",
      "\n"
     ]
    }
   ],
   "source": [
    "# Import data from 'liquor-sales-data/raw_data/' in ADLS\n",
    "\n",
    "file_path = \"/mnt/liquor-sales-data/raw_data/item.csv\"\n",
    "\n",
    "schema = StructType([\n",
    "    StructField(\"Item Number\", StringType(), True),\n",
    "    StructField(\"Item Description\", StringType(), True),\n",
    "    StructField(\"Category Number\", StringType(), True),\n",
    "    StructField(\"Vendor Number\", StringType(), True),\n",
    "    StructField(\"Pack\", IntegerType(), True),\n",
    "    StructField(\"Bottle Volume ml\", IntegerType(), True),\n",
    "    StructField(\"State Bottle cost\", DoubleType(), True),\n",
    "    StructField(\"State Bottle Retail\", DoubleType(), True)\n",
    "])\n",
    "df_item = spark.read.load(file_path, format='csv', header=True, schema=schema)\n"
   ]
  },
  {
   "cell_type": "code",
   "execution_count": null,
   "metadata": {
    "application/vnd.databricks.v1+cell": {
     "cellMetadata": {
      "byteLimit": 2048000,
      "rowLimit": 10000
     },
     "inputWidgets": {},
     "nuid": "a48eeb56-c993-44e6-8230-473a4d42cec7",
     "showTitle": false,
     "title": ""
    }
   },
   "outputs": [
    {
     "name": "stdout",
     "output_type": "stream",
     "text": [
      "root\n",
      " |-- Item Number: string (nullable = true)\n",
      " |-- Item Description: string (nullable = true)\n",
      " |-- Category Number: string (nullable = true)\n",
      " |-- Vendor Number: string (nullable = true)\n",
      " |-- Pack: integer (nullable = true)\n",
      " |-- Bottle Volume ml: integer (nullable = true)\n",
      " |-- State Bottle Cost: double (nullable = true)\n",
      " |-- State Bottle Retail: double (nullable = true)\n",
      "\n"
     ]
    }
   ],
   "source": [
    "# Transform\n",
    "\n",
    "# Round 'State Bottle Cost' and 'State Botttle Retail' up to 2 decimal figures\n",
    "df_item = df_item.withColumn('State Bottle Cost', round(df_item['State Bottle Cost'], 2))\n",
    "df_item = df_item.withColumn('State Bottle Retail', round(df_item['State Bottle Retail'], 2))\n",
    "\n",
    "df_item.printSchema()\n"
   ]
  },
  {
   "cell_type": "code",
   "execution_count": null,
   "metadata": {
    "application/vnd.databricks.v1+cell": {
     "cellMetadata": {
      "byteLimit": 2048000,
      "rowLimit": 10000
     },
     "inputWidgets": {},
     "nuid": "f32d57fa-d521-4068-a075-e84a13698c6b",
     "showTitle": false,
     "title": ""
    }
   },
   "outputs": [],
   "source": [
    "# Export to 'liquor-sales-data/transformed_data/' in ADLS\n",
    "\n",
    "output_path = \"/mnt/liquor-sales-data/transformed_data/item/\"\n",
    "\n",
    "df_item.write.parquet(output_path, mode='overwrite')"
   ]
  }
 ],
 "metadata": {
  "application/vnd.databricks.v1+notebook": {
   "dashboards": [],
   "environmentMetadata": null,
   "language": "python",
   "notebookMetadata": {
    "pythonIndentUnit": 4
   },
   "notebookName": "item_job",
   "widgets": {}
  },
  "language_info": {
   "name": "python"
  }
 },
 "nbformat": 4,
 "nbformat_minor": 0
}
