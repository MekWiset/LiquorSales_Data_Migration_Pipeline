{
 "cells": [
  {
   "cell_type": "code",
   "execution_count": null,
   "metadata": {
    "application/vnd.databricks.v1+cell": {
     "cellMetadata": {
      "byteLimit": 2048000,
      "rowLimit": 10000
     },
     "inputWidgets": {},
     "nuid": "ad4d8448-f7ed-44cf-b931-6a25f467d3bd",
     "showTitle": false,
     "title": ""
    }
   },
   "outputs": [],
   "source": [
    "# Import Packages\n",
    "\n",
    "from pyspark.sql import SparkSession\n",
    "from pyspark.sql.types import StructType, StructField, IntegerType\n",
    "\n",
    "spark = SparkSession.builder.appName('Item Number Bridge').master('local[*]').getOrCreate()"
   ]
  },
  {
   "cell_type": "code",
   "execution_count": null,
   "metadata": {
    "application/vnd.databricks.v1+cell": {
     "cellMetadata": {
      "byteLimit": 2048000,
      "rowLimit": 10000
     },
     "inputWidgets": {},
     "nuid": "23bf2927-7406-4e51-ad0f-af897cee355e",
     "showTitle": false,
     "title": ""
    }
   },
   "outputs": [
    {
     "name": "stdout",
     "output_type": "stream",
     "text": [
      "+--------------------+-------------------+\n",
      "|Original Item Number|Current Item Number|\n",
      "+--------------------+-------------------+\n",
      "|               30258|                258|\n",
      "|               26675|                266|\n",
      "|                 686|                365|\n",
      "|               42462|                663|\n",
      "|              100765|                827|\n",
      "|                 558|               1400|\n",
      "|                2229|               2226|\n",
      "|                3224|               2878|\n",
      "|                3345|               2916|\n",
      "|                4055|               2992|\n",
      "|                2889|               3373|\n",
      "|              100215|               3396|\n",
      "|                 499|               3620|\n",
      "|                2912|               3916|\n",
      "|                1343|               3919|\n",
      "|              902707|               4111|\n",
      "|                3953|               4119|\n",
      "|              994187|               4178|\n",
      "|              903998|               4197|\n",
      "|              943675|               4436|\n",
      "+--------------------+-------------------+\n",
      "only showing top 20 rows\n",
      "\n"
     ]
    }
   ],
   "source": [
    "# Import data from 'liquor-sales-data/raw_data/' in ADLS\n",
    "\n",
    "file_path = \"/mnt/liquor-sales-data/raw_data/item_number_bridge.csv\"\n",
    "\n",
    "schema = StructType([\n",
    "    StructField(\"Original Item Number\", IntegerType(), True),\n",
    "    StructField(\"Current Item Number\", IntegerType(), True)\n",
    "])\n",
    "df_number_bridge = spark.read.load(file_path, format='csv', header=True, schema=schema)\n",
    "\n",
    "df_number_bridge.show()\n",
    "\n"
   ]
  },
  {
   "cell_type": "code",
   "execution_count": null,
   "metadata": {
    "application/vnd.databricks.v1+cell": {
     "cellMetadata": {
      "byteLimit": 2048000,
      "rowLimit": 10000
     },
     "inputWidgets": {},
     "nuid": "a48eeb56-c993-44e6-8230-473a4d42cec7",
     "showTitle": false,
     "title": ""
    }
   },
   "outputs": [],
   "source": [
    "# Transform\n"
   ]
  },
  {
   "cell_type": "code",
   "execution_count": null,
   "metadata": {
    "application/vnd.databricks.v1+cell": {
     "cellMetadata": {
      "byteLimit": 2048000,
      "rowLimit": 10000
     },
     "inputWidgets": {},
     "nuid": "f32d57fa-d521-4068-a075-e84a13698c6b",
     "showTitle": false,
     "title": ""
    }
   },
   "outputs": [],
   "source": [
    "# Export to 'liquor-sales-data/transformed_data/' in ADLS\n",
    "\n",
    "output_path = \"/mnt/liquor-sales-data/transformed_data/item_number_bridge/\"\n",
    "\n",
    "df_number_bridge.write.parquet(output_path, mode='overwrite')"
   ]
  }
 ],
 "metadata": {
  "application/vnd.databricks.v1+notebook": {
   "dashboards": [],
   "environmentMetadata": null,
   "language": "python",
   "notebookMetadata": {
    "pythonIndentUnit": 4
   },
   "notebookName": "item_number_bridge_job",
   "widgets": {}
  },
  "language_info": {
   "name": "python"
  }
 },
 "nbformat": 4,
 "nbformat_minor": 0
}
