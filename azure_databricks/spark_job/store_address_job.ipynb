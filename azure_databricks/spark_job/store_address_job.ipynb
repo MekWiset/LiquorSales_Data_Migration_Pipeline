{
 "cells": [
  {
   "cell_type": "code",
   "execution_count": null,
   "metadata": {
    "application/vnd.databricks.v1+cell": {
     "cellMetadata": {
      "byteLimit": 2048000,
      "rowLimit": 10000
     },
     "inputWidgets": {},
     "nuid": "ad4d8448-f7ed-44cf-b931-6a25f467d3bd",
     "showTitle": false,
     "title": ""
    }
   },
   "outputs": [],
   "source": [
    "# Import Packages\n",
    "\n",
    "from pyspark.sql import SparkSession\n",
    "from pyspark.sql.types import StructType, StructField, StringType, IntegerType, DoubleType\n",
    "\n",
    "spark = SparkSession.builder.appName('Store Address').master('local[*]').getOrCreate()\n"
   ]
  },
  {
   "cell_type": "code",
   "execution_count": null,
   "metadata": {
    "application/vnd.databricks.v1+cell": {
     "cellMetadata": {
      "byteLimit": 2048000,
      "rowLimit": 10000
     },
     "inputWidgets": {},
     "nuid": "23bf2927-7406-4e51-ad0f-af897cee355e",
     "showTitle": false,
     "title": ""
    }
   },
   "outputs": [
    {
     "name": "stdout",
     "output_type": "stream",
     "text": [
      "+------------+--------------------+--------------------+----------------+--------+-------------+---------+-----------+\n",
      "|Store Number|          Store Name|             Address|            City|Zip Code|County Number| Latitude|  Longitude|\n",
      "+------------+--------------------+--------------------+----------------+--------+-------------+---------+-----------+\n",
      "|    STO_9936|     Dash Events Llc|1685 WEST UINTAH ...|COLORADO SPRINGS|   80904|         NULL|38.848017|-104.845334|\n",
      "|    STO_4422|Kum And Go #193 /...|  104 NORTH DIVISION|          STUART|   50250|        CNT_1|41.503858| -94.318376|\n",
      "|    STO_4654|Kum And Go #510 /...|  629 SOUTH DIVISION|          STUART|   50250|        CNT_1|41.496773| -94.318482|\n",
      "|    STO_4417|Kum And Go #76 / ...|       109 SOUTH 5TH|           ADAIR|   50002|        CNT_1|42.017403| -93.611475|\n",
      "|    STO_4753|Caseys General St...|       110 SOUTH 5TH|           ADAIR|   50002|        CNT_1|41.013948| -93.300253|\n",
      "|    STO_4620|Nodaway Valley Ma...|             304 4TH|      FONTANELLE|   50846|        CNT_1|41.289069| -94.562813|\n",
      "|    STO_6009|Caseys General St...|      304 WASHINGTON|      FONTANELLE|   50846|        CNT_1|41.289607| -94.564008|\n",
      "|    STO_3969|   R N Ds Liquor Llc|   205 NORTHEAST 6TH|      GREENFIELD|   50849|        CNT_1|41.306142|  -94.45329|\n",
      "|    STO_4317|Fareway Stores #9...|  212 SOUTHWEST KENT|      GREENFIELD|   50849|        CNT_1|41.303167| -94.462719|\n",
      "|    STO_4391|Kum And Go #236 /...|  508 SOUTHEAST KENT|      GREENFIELD|   50849|        CNT_1|41.303202|  -94.45363|\n",
      "|    STO_5052|Caseys General St...|   302 SOUTHEAST 6TH|      GREENFIELD|   50849|        CNT_1|41.303367| -94.453264|\n",
      "|    STO_2327|   West Side Spirits|            801 HULL|         CORNING|   50841|        CNT_2|40.990378| -94.743692|\n",
      "|    STO_2656|Hy-vee Food Store...|            300 10TH|         CORNING|   50841|        CNT_2|40.991861| -94.731809|\n",
      "|    STO_5459|Caseys General St...|             204 6TH|         CORNING|   50841|        CNT_2|     NULL|       NULL|\n",
      "|    STO_4896|    Barrys Mini Mart|        403 CHESTNUT|   HARPERS FERRY|   52146|        CNT_3|43.050183|  -91.38553|\n",
      "|    STO_5742|   Donahues One Stop|125 WEST JEFFERSO...|   HARPERS FERRY|   52146|        CNT_3|43.203808| -91.155186|\n",
      "|    STO_5904|Harpers One Stop ...|125 JEFFERSON AVENUE|   HARPERS FERRY|   52146|        CNT_3|43.203808| -91.155186|\n",
      "|    STO_4005|Lansing Liquor An...|            417 MAIN|         LANSING|   52151|        CNT_3| 43.36182| -91.219222|\n",
      "|    STO_5017|         Lansing Iga|            417 MAIN|         LANSING|   52151|        CNT_3| 43.36182| -91.219222|\n",
      "|    STO_4034|         Spice-n-ice|    123 NORTH LAWLER|       POSTVILLE|   52162|        CNT_3| 43.08605| -91.568372|\n",
      "+------------+--------------------+--------------------+----------------+--------+-------------+---------+-----------+\n",
      "only showing top 20 rows\n",
      "\n"
     ]
    }
   ],
   "source": [
    "# Import data from 'liquor-sales-data/raw_data/' in ADLS\n",
    "\n",
    "file_path = \"/mnt/liquor-sales-data/raw_data/store_address.csv\"\n",
    "\n",
    "schema = StructType([\n",
    "    StructField(\"Store Number\", StringType(), True),\n",
    "    StructField(\"Store Name\", StringType(), True),\n",
    "    StructField(\"Address\", StringType(), True),\n",
    "    StructField(\"City\", StringType(), True),\n",
    "    StructField(\"Zip Code\", IntegerType(), True),\n",
    "    StructField(\"County Number\", StringType(), True),\n",
    "    StructField(\"Latitude\", DoubleType(), True),\n",
    "    StructField(\"Longitude\", DoubleType(), True)\n",
    "])\n",
    "df_address = spark.read.load(file_path, format='csv', header=True, schema=schema)\n",
    "\n",
    "df_address.show()\n"
   ]
  },
  {
   "cell_type": "code",
   "execution_count": null,
   "metadata": {
    "application/vnd.databricks.v1+cell": {
     "cellMetadata": {
      "byteLimit": 2048000,
      "rowLimit": 10000
     },
     "inputWidgets": {},
     "nuid": "a48eeb56-c993-44e6-8230-473a4d42cec7",
     "showTitle": false,
     "title": ""
    }
   },
   "outputs": [
    {
     "name": "stdout",
     "output_type": "stream",
     "text": [
      "root\n",
      " |-- Store Number: string (nullable = true)\n",
      " |-- Store Name: string (nullable = true)\n",
      " |-- Address: string (nullable = true)\n",
      " |-- City: string (nullable = true)\n",
      " |-- Zip Code: integer (nullable = true)\n",
      " |-- County Number: string (nullable = true)\n",
      " |-- Latitude: double (nullable = true)\n",
      " |-- Longitude: double (nullable = true)\n",
      "\n"
     ]
    }
   ],
   "source": [
    "# Transform\n"
   ]
  },
  {
   "cell_type": "code",
   "execution_count": null,
   "metadata": {
    "application/vnd.databricks.v1+cell": {
     "cellMetadata": {
      "byteLimit": 2048000,
      "rowLimit": 10000
     },
     "inputWidgets": {},
     "nuid": "f32d57fa-d521-4068-a075-e84a13698c6b",
     "showTitle": false,
     "title": ""
    }
   },
   "outputs": [],
   "source": [
    "# Export to 'liquor-sales-data/transformed_data/' in ADLS\n",
    "\n",
    "output_path = \"/mnt/liquor-sales-data/transformed_data/store_address/\"\n",
    "\n",
    "df_address.write.parquet(output_path, mode='overwrite')"
   ]
  }
 ],
 "metadata": {
  "application/vnd.databricks.v1+notebook": {
   "dashboards": [],
   "environmentMetadata": null,
   "language": "python",
   "notebookMetadata": {
    "pythonIndentUnit": 4
   },
   "notebookName": "store_address_job",
   "widgets": {}
  },
  "language_info": {
   "name": "python"
  }
 },
 "nbformat": 4,
 "nbformat_minor": 0
}
