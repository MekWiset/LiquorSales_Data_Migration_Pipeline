{
 "cells": [
  {
   "cell_type": "code",
   "execution_count": null,
   "metadata": {
    "application/vnd.databricks.v1+cell": {
     "cellMetadata": {
      "byteLimit": 2048000,
      "rowLimit": 10000
     },
     "inputWidgets": {},
     "nuid": "ad4d8448-f7ed-44cf-b931-6a25f467d3bd",
     "showTitle": false,
     "title": ""
    }
   },
   "outputs": [],
   "source": [
    "# Import Packages\n",
    "\n",
    "from pyspark.sql import SparkSession\n",
    "from pyspark.sql.functions import round, add_months\n",
    "from pyspark.sql.types import StructType, StructField, StringType, IntegerType, DoubleType, DateType, BooleanType\n",
    "\n",
    "spark = SparkSession.builder.appName('Item Price History').master('local[*]').getOrCreate()\n"
   ]
  },
  {
   "cell_type": "code",
   "execution_count": null,
   "metadata": {
    "application/vnd.databricks.v1+cell": {
     "cellMetadata": {
      "byteLimit": 2048000,
      "rowLimit": 10000
     },
     "inputWidgets": {},
     "nuid": "23bf2927-7406-4e51-ad0f-af897cee355e",
     "showTitle": false,
     "title": ""
    }
   },
   "outputs": [],
   "source": [
    "# Import data from 'liquor-sales-data/raw_data/' in ADLS\n",
    "\n",
    "file_path = \"/mnt/liquor-sales-data/raw_data/item_price_history.csv\"\n",
    "\n",
    "schema = StructType([\n",
    "    StructField(\"Item Number\", StringType(), True),\n",
    "    StructField(\"Vendor Number\", StringType(), True),\n",
    "    StructField(\"Pack\", IntegerType(), True),\n",
    "    StructField(\"Bottle Volume ml\", IntegerType(), True),\n",
    "    StructField(\"State Bottle Cost\", DoubleType(), True),\n",
    "    StructField(\"State Bottle Retail\", DoubleType(), True),\n",
    "    StructField(\"From Date\", DateType(), True),\n",
    "    StructField(\"To Date\", DateType(), True),\n",
    "    StructField(\"Is Current\", BooleanType(), False),\n",
    "    StructField(\"Price Sequence\", IntegerType(), False)\n",
    "])\n",
    "df_price_history = spark.read.load(file_path, format='csv', header=True, schema=schema)"
   ]
  },
  {
   "cell_type": "code",
   "execution_count": null,
   "metadata": {
    "application/vnd.databricks.v1+cell": {
     "cellMetadata": {
      "byteLimit": 2048000,
      "rowLimit": 10000
     },
     "inputWidgets": {},
     "nuid": "a48eeb56-c993-44e6-8230-473a4d42cec7",
     "showTitle": false,
     "title": ""
    }
   },
   "outputs": [
    {
     "name": "stdout",
     "output_type": "stream",
     "text": [
      "+-----------+-------------+----+----------------+-----------------+-------------------+----------+----------+----------+--------------+\n",
      "|Item Number|Vendor Number|Pack|Bottle Volume ml|State Bottle Cost|State Bottle Retail| From Date|   To Date|Is Current|Price Sequence|\n",
      "+-----------+-------------+----+----------------+-----------------+-------------------+----------+----------+----------+--------------+\n",
      "| ITM_941063|      VEN_259|  12|               0|             4.25|               6.38|0928-05-07|0929-11-18|     false|             1|\n",
      "| ITM_995097|      VEN_322|   6|               0|             8.52|              12.78|0927-12-11|0927-12-11|     false|             1|\n",
      "| ITM_964590|       VEN_65|  12|               0|              4.8|                7.2|0928-01-29|0928-01-29|      true|             1|\n",
      "| ITM_934962|      VEN_395|  12|               0|            11.17|              16.76|0928-03-20|0928-09-17|     false|             1|\n",
      "| ITM_100300|      VEN_255|   6|            1800|             10.0|               15.0|0931-08-01|0932-04-26|      true|             1|\n",
      "| ITM_100549|      VEN_260|   6|            1800|             18.0|               27.0|0932-10-05|0932-11-29|      true|             1|\n",
      "| ITM_100824|      VEN_260|   6|            1800|             18.0|               27.0|0933-10-01|0933-12-23|      true|             2|\n",
      "| ITM_100825|      VEN_260|   6|            1800|             18.0|               27.0|0933-10-01|0933-12-05|      true|             2|\n",
      "| ITM_903158|      VEN_305|   6|              12|            33.67|               50.5|0926-02-16|0926-02-16|      true|             1|\n",
      "| ITM_900085|      VEN_260|   1|           31500|            324.0|              486.0|0931-09-11|0931-09-14|      true|             1|\n",
      "| ITM_900351|      VEN_260|   1|           31500|           215.28|             322.92|0931-09-11|0931-09-14|      true|             1|\n",
      "| ITM_900087|      VEN_260|   1|           31500|           265.47|             398.21|0931-09-11|0931-09-14|      true|             1|\n",
      "| ITM_900673|      VEN_240|  32|              15|             3.55|               5.33|0928-05-12|0928-05-12|     false|             1|\n",
      "|    ITM_124|      VEN_259|   6|            3600|              9.0|               13.5|0930-06-02|0931-01-09|      true|             1|\n",
      "|    ITM_339|      VEN_322|   6|            3600|             10.0|               15.0|0929-06-15|0930-01-07|      true|             1|\n",
      "| ITM_965381|      VEN_338|  20|              20|              2.5|               3.75|0934-02-06|0934-02-06|      true|             1|\n",
      "| ITM_100280|      VEN_557|  12|              20|              9.5|              14.25|0934-08-10|0934-09-29|      true|             1|\n",
      "|  ITM_65259|      VEN_192|  12|              20|             4.93|                7.4|0932-05-01|0934-09-30|      true|             2|\n",
      "| ITM_100510|      VEN_305|  12|              25|              5.0|                7.5|0933-10-01|0933-12-13|      true|             2|\n",
      "| ITM_100794|      VEN_305|  12|              25|              5.0|                7.5|0933-06-10|0934-02-27|      true|             1|\n",
      "+-----------+-------------+----+----------------+-----------------+-------------------+----------+----------+----------+--------------+\n",
      "only showing top 20 rows\n",
      "\n",
      "root\n",
      " |-- Item Number: string (nullable = true)\n",
      " |-- Vendor Number: string (nullable = true)\n",
      " |-- Pack: integer (nullable = true)\n",
      " |-- Bottle Volume ml: integer (nullable = true)\n",
      " |-- State Bottle Cost: double (nullable = true)\n",
      " |-- State Bottle Retail: double (nullable = true)\n",
      " |-- From Date: date (nullable = true)\n",
      " |-- To Date: date (nullable = true)\n",
      " |-- Is Current: string (nullable = true)\n",
      " |-- Price Sequence: integer (nullable = true)\n",
      "\n"
     ]
    }
   ],
   "source": [
    "# Transform\n",
    "\n",
    "# Subtract year column by 543\n",
    "df_price_history = df_price_history.withColumn('From Date', add_months(df_price_history['From Date'], -543 * 12))\n",
    "df_price_history = df_price_history.withColumn('To Date', add_months(df_price_history['To Date'], -543 * 12))\n",
    "\n",
    "# Convert 'Is Current' column to string\n",
    "df_price_history = df_price_history.withColumn('Is Current', df_price_history['Is Current'].cast('string'))\n",
    "\n",
    "# Round 'State Bottle Cost' and 'State Botttle Retail' up to 2 decimal figures\n",
    "df_price_history = df_price_history.withColumn('State Bottle Cost', round(df_price_history['State Bottle Cost'], 2))\n",
    "df_price_history = df_price_history.withColumn('State Bottle Retail', round(df_price_history['State Bottle Retail'], 2))\n",
    "\n",
    "\n",
    "df_price_history.show()\n",
    "df_price_history.printSchema()"
   ]
  },
  {
   "cell_type": "code",
   "execution_count": null,
   "metadata": {
    "application/vnd.databricks.v1+cell": {
     "cellMetadata": {
      "byteLimit": 2048000,
      "rowLimit": 10000
     },
     "inputWidgets": {},
     "nuid": "f32d57fa-d521-4068-a075-e84a13698c6b",
     "showTitle": false,
     "title": ""
    }
   },
   "outputs": [],
   "source": [
    "# Export to 'liquor-sales-data/transformed_data/' in ADLS\n",
    "\n",
    "output_path = \"/mnt/liquor-sales-data/transformed_data/item_price_history/\"\n",
    "\n",
    "df_price_history.write.parquet(output_path, mode='overwrite')"
   ]
  }
 ],
 "metadata": {
  "application/vnd.databricks.v1+notebook": {
   "dashboards": [],
   "environmentMetadata": null,
   "language": "python",
   "notebookMetadata": {
    "pythonIndentUnit": 4
   },
   "notebookName": "item_price_history_job",
   "widgets": {}
  },
  "language_info": {
   "name": "python"
  }
 },
 "nbformat": 4,
 "nbformat_minor": 0
}
